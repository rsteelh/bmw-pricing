{
 "cells": [
  {
   "cell_type": "code",
   "execution_count": 4,
   "metadata": {},
   "outputs": [],
   "source": [
    "import pandas as pd\n",
    "import numpy as np\n",
    "import seaborn as sns\n",
    "import matplotlib.pyplot as plt"
   ]
  },
  {
   "cell_type": "code",
   "execution_count": 5,
   "metadata": {},
   "outputs": [],
   "source": [
    "from sklearn.preprocessing import LabelEncoder,MinMaxScaler"
   ]
  },
  {
   "cell_type": "code",
   "execution_count": 6,
   "metadata": {},
   "outputs": [],
   "source": [
    "df_bmw=pd.read_csv(\"data/bmw_pricing_v3.csv\")"
   ]
  },
  {
   "cell_type": "markdown",
   "metadata": {},
   "source": [
    "## Estructura de Datos"
   ]
  },
  {
   "cell_type": "code",
   "execution_count": 7,
   "metadata": {},
   "outputs": [
    {
     "name": "stdout",
     "output_type": "stream",
     "text": [
      "<class 'pandas.core.frame.DataFrame'>\n",
      "RangeIndex: 4843 entries, 0 to 4842\n",
      "Data columns (total 18 columns):\n",
      " #   Column                       Non-Null Count  Dtype  \n",
      "---  ------                       --------------  -----  \n",
      " 0   marca                        3873 non-null   object \n",
      " 1   modelo                       4840 non-null   object \n",
      " 2   km                           4841 non-null   float64\n",
      " 3   potencia                     4842 non-null   float64\n",
      " 4   fecha_registro               2420 non-null   object \n",
      " 5   tipo_gasolina                4838 non-null   object \n",
      " 6   color                        4398 non-null   object \n",
      " 7   tipo_coche                   3383 non-null   object \n",
      " 8   volante_regulable            4839 non-null   object \n",
      " 9   aire_acondicionado           4357 non-null   object \n",
      " 10  camara_trasera               4841 non-null   object \n",
      " 11  asientos_traseros_plegables  1452 non-null   object \n",
      " 12  elevalunas_electrico         4841 non-null   object \n",
      " 13  bluetooth                    4115 non-null   object \n",
      " 14  gps                          4843 non-null   bool   \n",
      " 15  alerta_lim_velocidad         4115 non-null   object \n",
      " 16  precio                       4837 non-null   float64\n",
      " 17  fecha_venta                  4842 non-null   object \n",
      "dtypes: bool(1), float64(3), object(14)\n",
      "memory usage: 648.1+ KB\n"
     ]
    }
   ],
   "source": [
    "df_bmw.info()"
   ]
  },
  {
   "cell_type": "code",
   "execution_count": 9,
   "metadata": {},
   "outputs": [
    {
     "data": {
      "text/plain": [
       "(4843, 18)"
      ]
     },
     "execution_count": 9,
     "metadata": {},
     "output_type": "execute_result"
    }
   ],
   "source": [
    "df_bmw.shape"
   ]
  },
  {
   "cell_type": "code",
   "execution_count": 8,
   "metadata": {},
   "outputs": [
    {
     "data": {
      "text/html": [
       "<div>\n",
       "<style scoped>\n",
       "    .dataframe tbody tr th:only-of-type {\n",
       "        vertical-align: middle;\n",
       "    }\n",
       "\n",
       "    .dataframe tbody tr th {\n",
       "        vertical-align: top;\n",
       "    }\n",
       "\n",
       "    .dataframe thead th {\n",
       "        text-align: right;\n",
       "    }\n",
       "</style>\n",
       "<table border=\"1\" class=\"dataframe\">\n",
       "  <thead>\n",
       "    <tr style=\"text-align: right;\">\n",
       "      <th></th>\n",
       "      <th>marca</th>\n",
       "      <th>modelo</th>\n",
       "      <th>km</th>\n",
       "      <th>potencia</th>\n",
       "      <th>fecha_registro</th>\n",
       "      <th>tipo_gasolina</th>\n",
       "      <th>color</th>\n",
       "      <th>tipo_coche</th>\n",
       "      <th>volante_regulable</th>\n",
       "      <th>aire_acondicionado</th>\n",
       "      <th>camara_trasera</th>\n",
       "      <th>asientos_traseros_plegables</th>\n",
       "      <th>elevalunas_electrico</th>\n",
       "      <th>bluetooth</th>\n",
       "      <th>gps</th>\n",
       "      <th>alerta_lim_velocidad</th>\n",
       "      <th>precio</th>\n",
       "      <th>fecha_venta</th>\n",
       "    </tr>\n",
       "  </thead>\n",
       "  <tbody>\n",
       "    <tr>\n",
       "      <th>0</th>\n",
       "      <td>NaN</td>\n",
       "      <td>118</td>\n",
       "      <td>140411.0</td>\n",
       "      <td>100.0</td>\n",
       "      <td>2012-02-01</td>\n",
       "      <td>diesel</td>\n",
       "      <td>black</td>\n",
       "      <td>NaN</td>\n",
       "      <td>True</td>\n",
       "      <td>True</td>\n",
       "      <td>False</td>\n",
       "      <td>NaN</td>\n",
       "      <td>True</td>\n",
       "      <td>NaN</td>\n",
       "      <td>True</td>\n",
       "      <td>NaN</td>\n",
       "      <td>11300.0</td>\n",
       "      <td>2018-01-01</td>\n",
       "    </tr>\n",
       "    <tr>\n",
       "      <th>1</th>\n",
       "      <td>BMW</td>\n",
       "      <td>M4</td>\n",
       "      <td>13929.0</td>\n",
       "      <td>317.0</td>\n",
       "      <td>NaN</td>\n",
       "      <td>petrol</td>\n",
       "      <td>grey</td>\n",
       "      <td>convertible</td>\n",
       "      <td>True</td>\n",
       "      <td>True</td>\n",
       "      <td>False</td>\n",
       "      <td>NaN</td>\n",
       "      <td>False</td>\n",
       "      <td>True</td>\n",
       "      <td>True</td>\n",
       "      <td>True</td>\n",
       "      <td>69700.0</td>\n",
       "      <td>2018-02-01</td>\n",
       "    </tr>\n",
       "    <tr>\n",
       "      <th>2</th>\n",
       "      <td>BMW</td>\n",
       "      <td>320</td>\n",
       "      <td>183297.0</td>\n",
       "      <td>120.0</td>\n",
       "      <td>2012-04-01</td>\n",
       "      <td>diesel</td>\n",
       "      <td>white</td>\n",
       "      <td>NaN</td>\n",
       "      <td>False</td>\n",
       "      <td>False</td>\n",
       "      <td>False</td>\n",
       "      <td>NaN</td>\n",
       "      <td>True</td>\n",
       "      <td>False</td>\n",
       "      <td>True</td>\n",
       "      <td>False</td>\n",
       "      <td>10200.0</td>\n",
       "      <td>2018-02-01</td>\n",
       "    </tr>\n",
       "    <tr>\n",
       "      <th>3</th>\n",
       "      <td>BMW</td>\n",
       "      <td>420</td>\n",
       "      <td>128035.0</td>\n",
       "      <td>135.0</td>\n",
       "      <td>NaN</td>\n",
       "      <td>diesel</td>\n",
       "      <td>red</td>\n",
       "      <td>convertible</td>\n",
       "      <td>True</td>\n",
       "      <td>True</td>\n",
       "      <td>False</td>\n",
       "      <td>NaN</td>\n",
       "      <td>True</td>\n",
       "      <td>True</td>\n",
       "      <td>True</td>\n",
       "      <td>NaN</td>\n",
       "      <td>25100.0</td>\n",
       "      <td>2018-02-01</td>\n",
       "    </tr>\n",
       "    <tr>\n",
       "      <th>4</th>\n",
       "      <td>BMW</td>\n",
       "      <td>425</td>\n",
       "      <td>97097.0</td>\n",
       "      <td>160.0</td>\n",
       "      <td>NaN</td>\n",
       "      <td>diesel</td>\n",
       "      <td>silver</td>\n",
       "      <td>NaN</td>\n",
       "      <td>True</td>\n",
       "      <td>True</td>\n",
       "      <td>False</td>\n",
       "      <td>False</td>\n",
       "      <td>False</td>\n",
       "      <td>True</td>\n",
       "      <td>True</td>\n",
       "      <td>True</td>\n",
       "      <td>33400.0</td>\n",
       "      <td>2018-04-01</td>\n",
       "    </tr>\n",
       "  </tbody>\n",
       "</table>\n",
       "</div>"
      ],
      "text/plain": [
       "  marca modelo        km  potencia fecha_registro tipo_gasolina   color  \\\n",
       "0   NaN    118  140411.0     100.0     2012-02-01        diesel   black   \n",
       "1   BMW     M4   13929.0     317.0            NaN        petrol    grey   \n",
       "2   BMW    320  183297.0     120.0     2012-04-01        diesel   white   \n",
       "3   BMW    420  128035.0     135.0            NaN        diesel     red   \n",
       "4   BMW    425   97097.0     160.0            NaN        diesel  silver   \n",
       "\n",
       "    tipo_coche volante_regulable aire_acondicionado camara_trasera  \\\n",
       "0          NaN              True               True          False   \n",
       "1  convertible              True               True          False   \n",
       "2          NaN             False              False          False   \n",
       "3  convertible              True               True          False   \n",
       "4          NaN              True               True          False   \n",
       "\n",
       "  asientos_traseros_plegables elevalunas_electrico bluetooth   gps  \\\n",
       "0                         NaN                 True       NaN  True   \n",
       "1                         NaN                False      True  True   \n",
       "2                         NaN                 True     False  True   \n",
       "3                         NaN                 True      True  True   \n",
       "4                       False                False      True  True   \n",
       "\n",
       "  alerta_lim_velocidad   precio fecha_venta  \n",
       "0                  NaN  11300.0  2018-01-01  \n",
       "1                 True  69700.0  2018-02-01  \n",
       "2                False  10200.0  2018-02-01  \n",
       "3                  NaN  25100.0  2018-02-01  \n",
       "4                 True  33400.0  2018-04-01  "
      ]
     },
     "execution_count": 8,
     "metadata": {},
     "output_type": "execute_result"
    }
   ],
   "source": [
    "df_bmw.head(5)"
   ]
  },
  {
   "cell_type": "code",
   "execution_count": 11,
   "metadata": {},
   "outputs": [
    {
     "data": {
      "text/html": [
       "<div>\n",
       "<style scoped>\n",
       "    .dataframe tbody tr th:only-of-type {\n",
       "        vertical-align: middle;\n",
       "    }\n",
       "\n",
       "    .dataframe tbody tr th {\n",
       "        vertical-align: top;\n",
       "    }\n",
       "\n",
       "    .dataframe thead th {\n",
       "        text-align: right;\n",
       "    }\n",
       "</style>\n",
       "<table border=\"1\" class=\"dataframe\">\n",
       "  <thead>\n",
       "    <tr style=\"text-align: right;\">\n",
       "      <th></th>\n",
       "      <th>marca</th>\n",
       "      <th>modelo</th>\n",
       "      <th>km</th>\n",
       "      <th>potencia</th>\n",
       "      <th>fecha_registro</th>\n",
       "      <th>tipo_gasolina</th>\n",
       "      <th>color</th>\n",
       "      <th>tipo_coche</th>\n",
       "      <th>volante_regulable</th>\n",
       "      <th>aire_acondicionado</th>\n",
       "      <th>camara_trasera</th>\n",
       "      <th>asientos_traseros_plegables</th>\n",
       "      <th>elevalunas_electrico</th>\n",
       "      <th>bluetooth</th>\n",
       "      <th>gps</th>\n",
       "      <th>alerta_lim_velocidad</th>\n",
       "      <th>precio</th>\n",
       "      <th>fecha_venta</th>\n",
       "    </tr>\n",
       "  </thead>\n",
       "  <tbody>\n",
       "  </tbody>\n",
       "</table>\n",
       "</div>"
      ],
      "text/plain": [
       "Empty DataFrame\n",
       "Columns: [marca, modelo, km, potencia, fecha_registro, tipo_gasolina, color, tipo_coche, volante_regulable, aire_acondicionado, camara_trasera, asientos_traseros_plegables, elevalunas_electrico, bluetooth, gps, alerta_lim_velocidad, precio, fecha_venta]\n",
       "Index: []"
      ]
     },
     "execution_count": 11,
     "metadata": {},
     "output_type": "execute_result"
    }
   ],
   "source": [
    "df_bmw[df_bmw.duplicated(keep=False)] # sin duplicados"
   ]
  },
  {
   "cell_type": "markdown",
   "metadata": {},
   "source": [
    "## EDA + Cleaning"
   ]
  },
  {
   "cell_type": "code",
   "execution_count": 17,
   "metadata": {},
   "outputs": [],
   "source": [
    "df2_bmw=df_bmw.copy()"
   ]
  },
  {
   "cell_type": "markdown",
   "metadata": {},
   "source": [
    "Deteccion y tratamiento de nulos"
   ]
  },
  {
   "cell_type": "code",
   "execution_count": 18,
   "metadata": {},
   "outputs": [
    {
     "data": {
      "text/plain": [
       "marca                           True\n",
       "modelo                          True\n",
       "km                              True\n",
       "potencia                        True\n",
       "fecha_registro                  True\n",
       "tipo_gasolina                   True\n",
       "color                           True\n",
       "tipo_coche                      True\n",
       "volante_regulable               True\n",
       "aire_acondicionado              True\n",
       "camara_trasera                  True\n",
       "asientos_traseros_plegables     True\n",
       "elevalunas_electrico            True\n",
       "bluetooth                       True\n",
       "gps                            False\n",
       "alerta_lim_velocidad            True\n",
       "precio                          True\n",
       "fecha_venta                     True\n",
       "dtype: bool"
      ]
     },
     "execution_count": 18,
     "metadata": {},
     "output_type": "execute_result"
    }
   ],
   "source": [
    "df2_bmw.isnull().any()"
   ]
  },
  {
   "cell_type": "code",
   "execution_count": 19,
   "metadata": {},
   "outputs": [
    {
     "data": {
      "text/plain": [
       "marca                           970\n",
       "modelo                            3\n",
       "km                                2\n",
       "potencia                          1\n",
       "fecha_registro                 2423\n",
       "tipo_gasolina                     5\n",
       "color                           445\n",
       "tipo_coche                     1460\n",
       "volante_regulable                 4\n",
       "aire_acondicionado              486\n",
       "camara_trasera                    2\n",
       "asientos_traseros_plegables    3391\n",
       "elevalunas_electrico              2\n",
       "bluetooth                       728\n",
       "gps                               0\n",
       "alerta_lim_velocidad            728\n",
       "precio                            6\n",
       "fecha_venta                       1\n",
       "dtype: int64"
      ]
     },
     "execution_count": 19,
     "metadata": {},
     "output_type": "execute_result"
    }
   ],
   "source": [
    "df2_bmw.isnull().sum()"
   ]
  },
  {
   "cell_type": "code",
   "execution_count": 20,
   "metadata": {},
   "outputs": [
    {
     "name": "stdout",
     "output_type": "stream",
     "text": [
      "marca [nan 'BMW'] \n",
      "\n",
      "modelo ['118' 'M4' '320' '420' '425' '335' '325' 'Z4' '120' '220' '650' '135'\n",
      " '218' '318' '430' 'M3' '330' '225' 'M235' '316' '435' '640'\n",
      " '640 Gran Coupé' '435 Gran Coupé' 'i8' '630' '430 Gran Coupé' '635' '520'\n",
      " nan '525' '530' '535' '320 Gran Turismo' '518' '116' '328' '523' 'X3'\n",
      " 'M550' '528' '325 Gran Turismo' '125' '318 Gran Turismo' '420 Gran Coupé'\n",
      " 'i3' '114' '520 Gran Turismo' '530 Gran Turismo' 'M135' '418 Gran Coupé'\n",
      " '330 Gran Turismo' '335 Gran Turismo' '730' '123' '535 Gran Turismo'\n",
      " '740' '750' 'ActiveHybrid 5' '735' 'M5' 'X5' 'X1' 'X4' 'X6' 'X6 M' 'X5 M'\n",
      " 'X5 M50' '218 Active Tourer' '218 Gran Tourer' '216' '220 Active Tourer'\n",
      " '216 Gran Tourer' '216 Active Tourer' ' Active Tourer'\n",
      " '225 Active Tourer' '214 Gran Tourer'] \n",
      "\n",
      "fecha_registro ['2012-02-01' nan '2012-04-01' '2011-05-01' '2009-08-01' '2014-03-01'\n",
      " '2015-08-01' '2009-01-01' '2008-04-01' '2015-07-01' '2009-05-01'\n",
      " '2013-02-01' '2014-10-01' '1995-10-01' '2005-05-01' '2014-04-01'\n",
      " '2016-03-01' '2008-07-01' '2001-09-01' '2014-05-01' '2012-05-01'\n",
      " '2008-03-01' '2014-01-01' '2016-07-01' '2004-07-01' '2013-01-01'\n",
      " '2013-11-01' '2015-09-01' '2014-11-01' '2015-02-01' '2012-03-01'\n",
      " '2011-03-01' '2012-01-01' '2014-08-01' '2014-02-01' '2007-07-01'\n",
      " '2011-12-01' '2014-07-01' '2015-03-01' '2012-09-01' '2016-01-01'\n",
      " '2010-11-01' '2013-10-01' '2009-07-01' '2017-11-01' '2009-09-01'\n",
      " '2010-05-01' '2007-11-01' '2008-05-01' '2001-04-01' '2010-12-01'\n",
      " '2013-03-01' '2014-06-01' '2013-06-01' '2014-12-01' '2015-05-01'\n",
      " '2013-05-01' '2012-11-01' '2013-04-01' '2013-09-01' '2013-12-01'\n",
      " '2012-10-01' '2005-03-01' '2009-10-01' '2012-12-01' '2006-08-01'\n",
      " '2013-08-01' '2012-06-01' '2008-01-01' '2011-09-01' '2015-01-01'\n",
      " '2013-07-01' '2014-09-01' '2016-06-01' '2005-10-01' '2012-08-01'\n",
      " '2010-10-01' '2011-06-01' '2011-02-01' '2002-05-01' '2008-02-01'\n",
      " '2012-07-01' '2010-09-01' '2006-01-01' '2016-09-01' '2015-04-01'\n",
      " '2008-12-01' '2006-05-01' '2008-11-01' '2015-10-01' '2011-08-01'\n",
      " '2007-08-01' '2007-04-01' '2007-06-01' '2008-06-01' '2011-10-01'\n",
      " '2011-11-01' '2001-05-01' '2010-02-01' '2009-02-01' '2011-04-01'\n",
      " '2007-02-01' '2006-07-01' '2009-03-01' '2010-03-01' '2003-06-01'\n",
      " '2009-06-01' '2011-07-01' '2015-06-01' '2009-04-01' '2007-09-01'\n",
      " '2010-06-01' '2003-04-01' '2006-09-01' '2008-10-01' '2003-11-01'\n",
      " '2005-06-01' '2016-02-01' '2005-11-01' '2016-10-01' '2006-12-01'\n",
      " '2002-09-01' '2006-10-01' '2009-11-01' '2000-03-01' '2015-11-01'\n",
      " '2016-08-01' '2016-11-01' '2015-12-01' '2008-09-01' '2006-02-01'\n",
      " '2011-01-01' '2008-08-01' '2005-08-01' '2005-01-01' '2005-04-01'\n",
      " '2005-12-01' '2016-04-01' '2003-08-01' '2007-10-01' '2002-06-01'\n",
      " '1997-07-01' '2010-07-01' '1999-11-01' '2004-01-01' '2003-07-01'\n",
      " '2007-01-01' '1990-03-01' '2010-04-01' '2016-05-01' '2006-11-01'\n",
      " '1994-01-01' '2001-02-01' '2004-02-01' '2006-04-01' '2010-08-01'\n",
      " '2000-02-01' '2006-03-01' '2006-06-01' '2003-09-01' '1997-01-01'\n",
      " '1999-03-01' '2001-03-01' '2001-01-01' '2004-03-01' '1999-06-01'\n",
      " '2005-07-01' '2017-02-01' '2004-10-01' '2017-01-01' '2004-08-01'\n",
      " '2007-03-01' '2007-05-01' '2017-07-01' '2010-01-01' '2016-12-01'\n",
      " '2004-11-01' '2009-12-01' '2005-02-01' '2004-06-01' '2005-09-01'] \n",
      "\n",
      "tipo_gasolina ['diesel' 'petrol' nan 'hybrid_petrol' 'Diesel' 'electro'] \n",
      "\n",
      "color ['black' 'grey' 'white' 'red' 'silver' 'blue' nan 'orange' 'beige' 'brown'\n",
      " 'green'] \n",
      "\n",
      "tipo_coche [nan 'convertible' 'coupe' 'estate' 'hatchback' 'sedan' 'subcompact' 'suv'\n",
      " 'van'] \n",
      "\n",
      "volante_regulable [True False nan] \n",
      "\n",
      "aire_acondicionado [True False nan] \n",
      "\n",
      "camara_trasera [False True nan] \n",
      "\n",
      "asientos_traseros_plegables [nan False True] \n",
      "\n",
      "elevalunas_electrico [True False nan] \n",
      "\n",
      "bluetooth [nan True False] \n",
      "\n",
      "alerta_lim_velocidad [nan True False] \n",
      "\n",
      "fecha_venta ['2018-01-01' '2018-02-01' '2018-04-01' '2018-03-01' '2018-09-01'\n",
      " '2018-05-01' '2018-06-01' '2018-07-01' '2018-08-01' '2007-08-01'\n",
      " '2010-04-01' '2009-04-01' '2008-06-01' nan] \n",
      "\n"
     ]
    }
   ],
   "source": [
    "for i in df2_bmw:\n",
    "  if df2_bmw[i].dtype.kind == \"O\":\n",
    "      print(i,df2_bmw[i].unique(),\"\\n\")"
   ]
  },
  {
   "cell_type": "code",
   "execution_count": 21,
   "metadata": {},
   "outputs": [],
   "source": [
    "del(df2_bmw[\"marca\"]) # borrar marca, se esta analizando bmw"
   ]
  },
  {
   "cell_type": "code",
   "execution_count": 22,
   "metadata": {},
   "outputs": [
    {
     "name": "stdout",
     "output_type": "stream",
     "text": [
      "modelo \n",
      " modelo\n",
      "320                752\n",
      "520                633\n",
      "318                568\n",
      "X3                 438\n",
      "116                358\n",
      "                  ... \n",
      "M135                 1\n",
      "225                  1\n",
      "i8                   1\n",
      "630                  1\n",
      "214 Gran Tourer      1\n",
      "Name: count, Length: 76, dtype: int64 \n",
      "\n",
      "[[<Axes: title={'center': 'km'}>]]\n",
      "[[<Axes: title={'center': 'potencia'}>]]\n",
      "fecha_registro \n",
      " fecha_registro\n",
      "2013-07-01    93\n",
      "2014-03-01    83\n",
      "2014-05-01    81\n",
      "2013-01-01    78\n",
      "2013-10-01    77\n",
      "              ..\n",
      "2007-01-01     1\n",
      "1990-03-01     1\n",
      "2006-11-01     1\n",
      "1994-01-01     1\n",
      "2005-09-01     1\n",
      "Name: count, Length: 180, dtype: int64 \n",
      "\n",
      "tipo_gasolina \n",
      " tipo_gasolina\n",
      "diesel           4631\n",
      "petrol            191\n",
      "hybrid_petrol       8\n",
      "Diesel              5\n",
      "electro             3\n",
      "Name: count, dtype: int64 \n",
      "\n",
      "color \n",
      " color\n",
      "black     1499\n",
      "grey      1070\n",
      "blue       647\n",
      "white      484\n",
      "brown      302\n",
      "silver     292\n",
      "red         47\n",
      "beige       37\n",
      "green       14\n",
      "orange       6\n",
      "Name: count, dtype: int64 \n",
      "\n",
      "tipo_coche \n",
      " tipo_coche\n",
      "estate         1107\n",
      "sedan           821\n",
      "suv             755\n",
      "hatchback       488\n",
      "subcompact       77\n",
      "coupe            76\n",
      "convertible      30\n",
      "van              29\n",
      "Name: count, dtype: int64 \n",
      "\n",
      "volante_regulable \n",
      " volante_regulable\n",
      "True     2662\n",
      "False    2177\n",
      "Name: count, dtype: int64 \n",
      "\n",
      "aire_acondicionado \n",
      " aire_acondicionado\n",
      "True     3465\n",
      "False     892\n",
      "Name: count, dtype: int64 \n",
      "\n",
      "camara_trasera \n",
      " camara_trasera\n",
      "False    3864\n",
      "True      977\n",
      "Name: count, dtype: int64 \n",
      "\n",
      "asientos_traseros_plegables \n",
      " asientos_traseros_plegables\n",
      "False    1150\n",
      "True      302\n",
      "Name: count, dtype: int64 \n",
      "\n",
      "elevalunas_electrico \n",
      " elevalunas_electrico\n",
      "False    2612\n",
      "True     2229\n",
      "Name: count, dtype: int64 \n",
      "\n",
      "bluetooth \n",
      " bluetooth\n",
      "False    3119\n",
      "True      996\n",
      "Name: count, dtype: int64 \n",
      "\n",
      "alerta_lim_velocidad \n",
      " alerta_lim_velocidad\n",
      "True     2240\n",
      "False    1875\n",
      "Name: count, dtype: int64 \n",
      "\n",
      "[[<Axes: title={'center': 'precio'}>]]\n",
      "fecha_venta \n",
      " fecha_venta\n",
      "2018-05-01    809\n",
      "2018-03-01    738\n",
      "2018-04-01    691\n",
      "2018-06-01    603\n",
      "2018-07-01    537\n",
      "2018-08-01    527\n",
      "2018-02-01    502\n",
      "2018-09-01    223\n",
      "2018-01-01    208\n",
      "2007-08-01      1\n",
      "2010-04-01      1\n",
      "2009-04-01      1\n",
      "2008-06-01      1\n",
      "Name: count, dtype: int64 \n",
      "\n"
     ]
    },
    {
     "data": {
      "image/png": "[encoded data removed]",
      "text/plain": [
       "<Figure size 640x480 with 1 Axes>"
      ]
     },
     "metadata": {},
     "output_type": "display_data"
    },
    {
     "data": {
      "image/png": "[encoded data removed]",
      "text/plain": [
       "<Figure size 640x480 with 1 Axes>"
      ]
     },
     "metadata": {},
     "output_type": "display_data"
    },
    {
     "data": {
      "image/png": "[encoded data removed]",
      "text/plain": [
       "<Figure size 640x480 with 1 Axes>"
      ]
     },
     "metadata": {},
     "output_type": "display_data"
    }
   ],
   "source": [
    "for i in df2_bmw:\n",
    "  if df2_bmw[i].dtype.kind == \"O\":\n",
    "    print(i,'\\n', df2_bmw[i].value_counts(), '\\n')\n",
    "  elif (df2_bmw[i].dtype.kind==\"f\") or (df2_bmw[i].dtype.kind==\"i\"):\n",
    "    print(df2_bmw.hist(i))"
   ]
  }
 ],
 "metadata": {
  "kernelspec": {
   "display_name": "Python 3",
   "language": "python",
   "name": "python3"
  },
  "language_info": {
   "codemirror_mode": {
    "name": "ipython",
    "version": 3
   },
   "file_extension": ".py",
   "mimetype": "text/x-python",
   "name": "python",
   "nbconvert_exporter": "python",
   "pygments_lexer": "ipython3",
   "version": "3.12.1"
  }
 },
 "nbformat": 4,
 "nbformat_minor": 2
}
